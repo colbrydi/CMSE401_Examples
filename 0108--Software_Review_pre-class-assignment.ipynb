{
 "cells": [
  {
   "cell_type": "markdown",
   "metadata": {},
   "source": [
    "In order to successfully complete this assignment you must do the required reading, watch the provided videos and complete all instructions.  The embedded Google form must be entirely filled out and submitted on or before **11:59pm on Tuesday January 8th**.  Students must come to class the next day prepared to discuss the material covered in this assignment. "
   ]
  },
  {
   "cell_type": "markdown",
   "metadata": {},
   "source": [
    "# Pre-Class Assignment: Software Review"
   ]
  },
  {
   "cell_type": "markdown",
   "metadata": {},
   "source": [
    "# Goals for today's pre-class assignment \n",
    "\n",
    "</p>\n",
    "\n",
    "0. What is FMOOWMP?\n",
    "1. Introduction to Seven Dwarfs\n",
    "1. Install required software\n",
    "1. Test Install\n",
    "1. Assignment wrap-up"
   ]
  },
  {
   "cell_type": "markdown",
   "metadata": {},
   "source": [
    "----\n",
    "# 0. What is FMOOWMP?\n",
    "\n",
    "Remember my office hours on Monday's and Wednesdays immediately after class until 3:30pm (or by appointment):\n",
    "\n",
    "https://www.youtube.com/embed/yQq1-_ujXrM"
   ]
  },
  {
   "cell_type": "code",
   "execution_count": null,
   "metadata": {},
   "outputs": [],
   "source": [
    "from IPython.display import YouTubeVideo\n",
    "YouTubeVideo(\"yQq1-_ujXrM\",width=640,height=360)"
   ]
  },
  {
   "cell_type": "markdown",
   "metadata": {},
   "source": [
    "# 1. Introduction to Seven Dwarfs\n",
    "\n",
    "In 2004 Phillip Colella introduced the Seven Dwarfs of computation.  The following slides are from one of his courses on software engineering. There is a lot of interesting tidbits in these slides. Some/much of it you may not yet understand.   Read though them and identify the terms and concepts you did not understand and the ones you find interesting:\n",
    "\n",
    "&#9989; <font color=red>**DO THIS:**</font> Read though Phillip Colella's 2013 [\"Software Engineering for\n",
    "Scientific Computing\"](https://www.krellinst.org/doecsgf/conf/2013/pres/pcolella.pdf) Slides. "
   ]
  },
  {
   "cell_type": "markdown",
   "metadata": {},
   "source": [
    "&#9989; <font color=red>**DO THIS:**</font> These slides use a lot of jargon.  Add words and phrases to the course [Jargon Jar](https://preview.tinyurl.com/CMSE314-JargonJar) "
   ]
  },
  {
   "cell_type": "markdown",
   "metadata": {},
   "source": [
    "&#9989; <font color=red>**Question:**</font> What are the main points of Dr. Colella's Presentation?"
   ]
  },
  {
   "cell_type": "markdown",
   "metadata": {},
   "source": [
    "Put your answer to the above question here"
   ]
  },
  {
   "cell_type": "markdown",
   "metadata": {},
   "source": [
    "# 2. Install required software\n",
    "\n",
    "Over the semester we will be using a variety of software packages.  Although the instructors has a few work arounds, your personal laptops will work best if you have the following installed:\n",
    "\n",
    "- Latest [Anaconda version of Python 3.x](https://www.anaconda.com/download)\n",
    "- SSH and SCP client - pre-installed on Mac/Linux, Lots of options for Windows. Ex: [MobaXterm](https://mobaxterm.mobatek.net/)\n",
    "- X11 client - [XQuartz](https://www.xquartz.org/) on Mac, pre-installed on Linux, Lots of options for Windows. Ex [MobaXterm](https://mobaxterm.mobatek.net/)\n",
    "- git client - For example [Mac Download](https://git-scm.com/download/mac), [Windows Download](https://gitforwindows.org/)\n",
    "\n",
    "Note, there are a lot of options here. It is the responsibility of the student to make sure their software is running properly."
   ]
  },
  {
   "cell_type": "markdown",
   "metadata": {},
   "source": [
    "# 3. Test Install\n",
    "\n",
    "&#9989; <font color=red>**DO THIS:**</font> Next we need to test to make sure the software is working and you have access to they computer accounts you will be using this semester. Run the following from your laptop's command line. "
   ]
  },
  {
   "cell_type": "raw",
   "metadata": {},
   "source": [
    "python --version\n",
    "\n",
    "pip --version\n",
    "\n",
    "ssh hpcc.msu.edu\n",
    "\n",
    "ssh scully.egr.msu.edu\n",
    "\n",
    "git clone git@gitlab.msu.edu:colbrydi/cmse401-s19.git\n",
    "\n",
    "cd cmse401-s19\n",
    "\n",
    "jupyter 0108--Software_Review_pre-class-assignment.ipynb"
   ]
  },
  {
   "cell_type": "markdown",
   "metadata": {},
   "source": [
    "**Note:** the HPCC uses your MSU login and password and scully uses your engineering login and password.  "
   ]
  },
  {
   "cell_type": "markdown",
   "metadata": {},
   "source": [
    "&#9989; <font color=red>**Question:**</font> What problems (if any) did you encounter when testing your software?"
   ]
  },
  {
   "cell_type": "markdown",
   "metadata": {},
   "source": [
    "Put your answer to the above question here"
   ]
  },
  {
   "cell_type": "markdown",
   "metadata": {},
   "source": [
    "&#9989; <font color=red>**Question:**</font> What did you do to try and fix any problems you encountered?"
   ]
  },
  {
   "cell_type": "markdown",
   "metadata": {},
   "source": [
    "Put your answer to the above question here"
   ]
  },
  {
   "cell_type": "markdown",
   "metadata": {},
   "source": [
    "# 4. SSH and GIT Review\n",
    "\n",
    "Some of you may not remember how to use ssh and/or git.  The following videos were used in previous courses to help discuss git.  I am providing them here as a review. "
   ]
  },
  {
   "cell_type": "markdown",
   "metadata": {},
   "source": [
    "https://www.youtube.com/embed/3QnD2c4Xovk"
   ]
  },
  {
   "cell_type": "code",
   "execution_count": null,
   "metadata": {},
   "outputs": [],
   "source": [
    "from IPython.display import YouTubeVideo\n",
    "YouTubeVideo(\"3QnD2c4Xovk\",width=640,height=360)"
   ]
  },
  {
   "cell_type": "markdown",
   "metadata": {},
   "source": [
    "https://www.youtube.com/embed/mAZjoF5JYJQ"
   ]
  },
  {
   "cell_type": "code",
   "execution_count": null,
   "metadata": {},
   "outputs": [],
   "source": [
    "from IPython.display import YouTubeVideo\n",
    "YouTubeVideo(\"mAZjoF5JYJQ\",width=640,height=360)"
   ]
  },
  {
   "cell_type": "markdown",
   "metadata": {},
   "source": [
    "https://www.youtube.com/embed/mJvgR_crW8w"
   ]
  },
  {
   "cell_type": "code",
   "execution_count": null,
   "metadata": {},
   "outputs": [],
   "source": [
    "from IPython.display import YouTubeVideo\n",
    "YouTubeVideo(\"mJvgR_crW8w\",width=640,height=360)"
   ]
  },
  {
   "cell_type": "markdown",
   "metadata": {},
   "source": [
    "https://www.youtube.com/embed/9_iD3mVnk-E"
   ]
  },
  {
   "cell_type": "code",
   "execution_count": null,
   "metadata": {},
   "outputs": [],
   "source": [
    "from IPython.display import YouTubeVideo\n",
    "YouTubeVideo(\"9_iD3mVnk-E\",width=640,height=360)"
   ]
  },
  {
   "cell_type": "markdown",
   "metadata": {},
   "source": [
    "----\n",
    "# 5. Assignment wrap-up"
   ]
  },
  {
   "cell_type": "markdown",
   "metadata": {},
   "source": [
    "&#9989; <font color=red>**Question:**</font> Approximately how long (in minutes) did this assignment take for you to complete."
   ]
  },
  {
   "cell_type": "markdown",
   "metadata": {},
   "source": [
    "Put your answer to the above question here"
   ]
  },
  {
   "cell_type": "markdown",
   "metadata": {},
   "source": [
    "&#9989; <font color=red>**Question:**</font>  What questions do you have, if any, about any of the topics discussed in this assignment after working through the jupyter notebook?"
   ]
  },
  {
   "cell_type": "markdown",
   "metadata": {},
   "source": [
    "Put your answer to the above question here"
   ]
  },
  {
   "cell_type": "markdown",
   "metadata": {},
   "source": [
    "&#9989; <font color=red>**Question:**</font>  Do you have any further questions or comments about this material, or anything else that's going on in class? "
   ]
  },
  {
   "cell_type": "markdown",
   "metadata": {},
   "source": [
    "Put your answer to the above question here"
   ]
  },
  {
   "cell_type": "markdown",
   "metadata": {},
   "source": [
    "&#9989; <font color=red>**Question:**</font> What have you heard about that you are hoping to learn more about?"
   ]
  },
  {
   "cell_type": "markdown",
   "metadata": {},
   "source": [
    "Put your answer to the above question here"
   ]
  },
  {
   "cell_type": "markdown",
   "metadata": {},
   "source": [
    "&#9989; <font color=red>**DO THIS:**</font> Please fill out the form that appears when you run the code below.  **You must completely fill this out in order to receive credit for the assignment!**\n",
    "\n",
    "[Direct Link](https://docs.google.com/forms/d/e/1FAIpQLScS53zeu4IF0xh-dlLR1U-TqTgohWG-ChQTkZ_NaoRUgOQ9Zg/viewform)"
   ]
  },
  {
   "cell_type": "code",
   "execution_count": null,
   "metadata": {},
   "outputs": [],
   "source": [
    "from IPython.display import HTML\n",
    "HTML(\n",
    "\"\"\"\n",
    "<iframe \n",
    "\tsrc=\"https://docs.google.com/forms/d/e/1FAIpQLScS53zeu4IF0xh-dlLR1U-TqTgohWG-ChQTkZ_NaoRUgOQ9Zg/viewform?embedded=true\" \n",
    "\twidth=\"100%\" \n",
    "\theight=\"1200px\" \n",
    "\tframeborder=\"0\" \n",
    "\tmarginheight=\"0\" \n",
    "\tmarginwidth=\"0\">\n",
    "\tLoading...\n",
    "</iframe>\n",
    "\"\"\"\n",
    ")"
   ]
  },
  {
   "cell_type": "markdown",
   "metadata": {},
   "source": [
    "---------\n",
    "### Congratulations, we're done!\n",
    "\n",
    "To get credit for this assignment you must fill out and submit the above Google From on or before the assignment due date.\n",
    "\n",
    "**Course Resources:**\n",
    "- [Syllabus](https://tinyurl.com/y75cnzam)\n",
    "- [Preliminary Schedule](https://tinyurl.com/CMSE314-Schedule)\n",
    "- [Git Repository](https://gitlab.msu.edu/colbrydi/cmse401-s19)\n",
    "- [Jargon Jar and Command History](https://tinyurl.com/CMSE314-JargonJar) \n"
   ]
  },
  {
   "cell_type": "markdown",
   "metadata": {},
   "source": [
    "&#169; Copyright 2019,  Michigan State University Board of Trustees"
   ]
  }
 ],
 "metadata": {
  "anaconda-cloud": {},
  "kernelspec": {
   "display_name": "Python 3",
   "language": "python",
   "name": "python3"
  },
  "language_info": {
   "codemirror_mode": {
    "name": "ipython",
    "version": 3
   },
   "file_extension": ".py",
   "mimetype": "text/x-python",
   "name": "python",
   "nbconvert_exporter": "python",
   "pygments_lexer": "ipython3",
   "version": "3.7.6"
  }
 },
 "nbformat": 4,
 "nbformat_minor": 2
}
