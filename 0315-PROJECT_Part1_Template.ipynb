{
 "cells": [
  {
   "cell_type": "markdown",
   "metadata": {},
   "source": [
    "In order to successfully complete this assignment you need to turn in a project report and deliverables to D2L on or before **11:59pm Friday March 15th**.\n",
    "\n",
    "NOTE: This template is just a suggestion. Modify based on your project and interests. \n",
    "\n",
    "Feel free to use content from your original proposal but make sure you are adding to the content. Grade will be based on how well you communicate what you did and what you learned.  I will look at how your deliverables match up with your original goals. A miss match is fine but it should be clear why the project deviated from the original expectations. "
   ]
  },
  {
   "cell_type": "markdown",
   "metadata": {},
   "source": [
    "# <center> &#9989; Part 1 - Project Title </center>\n",
    "\n",
    "<center>By &#9989; \"Your name\"</center>"
   ]
  },
  {
   "cell_type": "markdown",
   "metadata": {},
   "source": [
    "&#9989; Replace the following with a picture that \"defines\" your project.  This could be software logo, an expected outcome of your project, or a graphical representation of the research area. Again, it is okay to use the picture from the proposal but it is also good to come up with a new unique picture.  \n",
    "\n",
    "<img src=\"http://simpleicon.com/wp-content/uploads/camera.png\" width=\"20%\">\n",
    "<p style=\"text-align: right;\">Image from: URL REFERENCE</p>"
   ]
  },
  {
   "cell_type": "markdown",
   "metadata": {},
   "source": [
    "---\n",
    "# Abstract\n",
    "\n",
    "&#9989;  Provide a short paragraph about the domain you cover in your project (research area, sports, economics, etc). Explain why you picked this domain (i.e. what is your motivation). Explain how computation is used I this domain. Give a short description that describes the software that you explored. \n",
    "\n",
    "Note: this probably can just be copied (with a few modifications) from your project proposal."
   ]
  },
  {
   "cell_type": "markdown",
   "metadata": {},
   "source": [
    "---\n",
    "# Goals\n",
    "\n",
    "&#9989;  Provide a more detailed paragraph about the software that you reviewed and what it is supposed to do. Provide any links (references) and provide details (in a table for example) laying out the goals for this part of your project."
   ]
  },
  {
   "cell_type": "markdown",
   "metadata": {},
   "source": [
    "---\n",
    "# Project \n",
    "\n",
    "&#9989;  Write a narrative describing how the review was conducted and what you learned. Be specific about what you learned.  Include any roadblocks you hit and how you worked your way around them.  Include as appropriate, any graphs or figures that will help tell the story.  "
   ]
  },
  {
   "cell_type": "markdown",
   "metadata": {},
   "source": [
    "---\n",
    "# Deliverables\n",
    "\n",
    "&#9989;  Provide a list and a description of the deliverables that you were able to get together.  Make sure you explain any deviation from your original proposal. Include timing graphs, or instructions for reproducing the work as appropriate for your project.  "
   ]
  },
  {
   "cell_type": "markdown",
   "metadata": {},
   "source": [
    "---\n",
    "# Future Work and Discussion\n",
    "\n",
    "&#9989;  Describe how this project will link into Part 2 of your overall project.  Given extra time what are some other things you would wish to explore on this project?  How has this part of the project linked to the second part of the project. Include how Part 2 of the project may change based on what you learned in this part of the project."
   ]
  },
  {
   "cell_type": "markdown",
   "metadata": {},
   "source": [
    "-----\n",
    "### &#9989;  Congratulations, you are done!\n",
    "\n",
    "Now, you just need to submit this report by uploading it to the course <a href=\"https://d2l.msu.edu/\">Desire2Learn</a> web page for today's dropbox."
   ]
  }
 ],
 "metadata": {
  "anaconda-cloud": {},
  "kernelspec": {
   "display_name": "Python 3",
   "language": "python",
   "name": "python3"
  },
  "language_info": {
   "codemirror_mode": {
    "name": "ipython",
    "version": 3
   },
   "file_extension": ".py",
   "mimetype": "text/x-python",
   "name": "python",
   "nbconvert_exporter": "python",
   "pygments_lexer": "ipython3",
   "version": "3.6.5"
  }
 },
 "nbformat": 4,
 "nbformat_minor": 1
}
