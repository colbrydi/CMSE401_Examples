{
 "cells": [
  {
   "cell_type": "markdown",
   "metadata": {},
   "source": [
    "# CMSE/MTH 401 - Midterm Exam 1\n",
    "This is an open internet exam.  Feel free to use anything on the internet with one important exception...\n",
    "\n",
    "- **DO NOT** communicate live with other people during the exam (either verbally or on-line).  The goal here is to find answers to problems as you would in the real world.  \n",
    "\n",
    "You will be given **60 minutes (wishful thinking by the instructor, you will be given the entire exam time if needed)** to complete this test.  Use your time wisely. \n",
    "\n",
    "**HINTS:**\n",
    "- Neatness is important.  we will ignore all notes or code we can not read. \n",
    "- Read the entire exam from beginning to end before starting.  Not all questions are equal in points vs. time so plan your time accordingly.   \n",
    "- Skip questions you can not answer. \n",
    "- Some of the information provided my be a distraction. Do not assume you need to understand everything written to answer the questions. \n",
    "- Spaces for answers are provided. Delete the prompting text such as \"Put your answer to the above question here\" and replace it with your answer. Do not leave the prompting text with your answer.\n",
    "- Do not assume that the answer must be in the same format of the cell provided. Feel free to change the cell formatting (ex. markdown to code) or add additional cells as needed to provide your answer.\n",
    "- When we say \"in your own words\" it is still okay to search the Internet for the answer as a reminder, however, we would like you to do more than cut and paste.  Make the answer your own. \n",
    "- If you get stuck, try not to leave an answer blank. It is better to include some notes or stub functions so we have an idea about your thinking process so we can give you partial credit.   \n",
    "- Always provided links to any references you find helpful. \n",
    "- Feel free to delete the provided check marks (&#9989;) as a way to keep track of which questions you have successfully completed. \n",
    "\n"
   ]
  },
  {
   "cell_type": "markdown",
   "metadata": {},
   "source": [
    "### Exam Summary\n",
    "1. (25 points) [Conways Game of Life](#gol)\n",
    "2. (25 points) [Job Scheduling](#jobs)\n",
    "2. (25 points) [CUDA](#CUDA)\n",
    "3. (25 points) [OpenMM](#OpenMM)"
   ]
  },
  {
   "cell_type": "markdown",
   "metadata": {},
   "source": [
    "---\n",
    "\n",
    "<a name=\"gol\"></a>\n",
    "# Question 1 - (25 points) Conways Game of Life\n",
    "\n",
    "<img src=\"https://upload.wikimedia.org/wikipedia/commons/e/e5/Gospers_glider_gun.gif\">\n",
    "\n",
    "[Glider Generator Example from Wikipedia](https://en.wikipedia.org/wiki/Conway%27s_Game_of_Life)\n",
    "\n",
    "> The Game of Life, also known simply as Life, is a cellular automaton devised by the British mathematician John Horton Conway in 1970.\n",
    "> \n",
    "> The game is a zero-player game, meaning that its evolution is determined by its initial state, requiring no further input. One interacts with the Game of Life by creating an initial configuration and observing how it evolves, or, for advanced players, by creating patterns with particular properties.\n",
    "> \n",
    "> The universe of the Game of Life is an infinite, two-dimensional orthogonal grid of square cells, each of which is in one of two possible states, alive or dead, (or populated and unpopulated, respectively). Every cell interacts with its eight neighbours, which are the cells that are horizontally, vertically, or diagonally adjacent. At each step in time, the following transitions occur:\n",
    "> \n",
    "> - Any live cell with fewer than two (<2) live neighbours dies, as if by underpopulation.\n",
    "> - Any live cell with two or three [2-3) live neighbours lives on to the next generation.\n",
    "> - Any live cell with more than three (>3) live neighbours dies, as if by overpopulation.\n",
    "> - Any dead cell with exactly three (3) live neighbours becomes a live cell, as if by reproduction.\n",
    "> \n",
    "> The initial pattern constitutes the seed of the system. The first generation is created by applying the above rules simultaneously to every cell in the seed; births and deaths occur simultaneously, and the discrete moment at which this happens is sometimes called a tick. Each generation is a pure function of the preceding one. The rules continue to be applied repeatedly to create further generations.\n",
    "\n",
    "The game of life is used as a model in a number of different scientific domains.  The following code is an OpenMP implamentation of Conway's Game of life. Use the code as a reference and answer the questions below. This example comes from here: http://ernie55ernie.github.io/parallel%20programming/2016/03/25/openmp-game-of-life.html\n",
    "\n",
    "```c++\n",
    "#include <stdio.h>\n",
    "#include <string.h>\n",
    "#include <omp.h>\n",
    "#include <stdlib.h>\n",
    "#include <assert.h>\n",
    "#define MAX_N 2000\n",
    "\n",
    "int plate[2][(MAX_N + 2) * (MAX_N + 2)];\n",
    "int which = 0;\n",
    "int n;\n",
    "int live(int index){\n",
    "\treturn (plate[which][index - n - 3] \n",
    "\t\t+ plate[which][index - n - 2]\n",
    "\t\t+ plate[which][index - n - 1]\n",
    "\t\t+ plate[which][index - 1]\n",
    "\t\t+ plate[which][index + 1]\n",
    "\t\t+ plate[which][index + n + 1]\n",
    "\t\t+ plate[which][index + n + 2]\n",
    "\t\t+ plate[which][index + n + 3]);\n",
    "}\n",
    "void iteration(){\n",
    "#pragma omp parallel for schedule(static)\n",
    "\tfor(int i = 1; i <= n; i++){\n",
    "\t\tfor(int j = 1; j <= n; j++){\n",
    "\t\t\tint index = i * (n + 2) + j;\n",
    "\t\t\tint num = live(index);\n",
    "\t\t\tif(plate[which][index]){\n",
    "\t\t\t\tplate[!which][index] =  (num == 2 || num == 3) ?\n",
    "\t\t\t\t\t1 : 0;\n",
    "\t\t\t}else{\n",
    "\t\t\t\tplate[!which][index] = (num == 3);\n",
    "\t\t\t}\n",
    "\t\t}\n",
    "\t}\n",
    "\twhich = !which;\n",
    "}\n",
    "void print_plate(){\n",
    "\tfor(int i = 1; i <= n; i++){\n",
    "\t\tfor(int j = 1; j <= n; j++){\n",
    "\t\t\tprintf(\"%d\", plate[which][i * (n + 2) + j]);\n",
    "\t\t}\n",
    "\t\tprintf(\"\\n\");\n",
    "\t}\n",
    "\tprintf(\"\\0\");\n",
    "}\n",
    "int main(){\n",
    "\tint M;\n",
    "\tchar line[MAX_N];\n",
    "\tmemset(plate[0], 0, sizeof(int) * (n + 2) * (n + 2));\n",
    "\tmemset(plate[1], 0, sizeof(int) * (n + 2) * (n + 2));\n",
    "\tif(scanf(\"%d %d\", &n, &M) == 2){\n",
    "\t\tfor(int i = 1; i <= n; i++){\n",
    "\t\t\tscanf(\"%s\", &line);\n",
    "\t\t\tfor(int j = 0; j < n; j++){\n",
    "\t\t\t\tplate[0][i * (n + 2) + j + 1] = line[j] - '0';\n",
    "\t\t\t}\n",
    "\t\t}\n",
    "\t\tfor(int i = 0; i < M; i++){\n",
    "\t\t\titeration();\n",
    "\t\t}\n",
    "\t\tprint_plate();\n",
    "\t}\n",
    "\treturn 0;\n",
    "}```"
   ]
  },
  {
   "cell_type": "markdown",
   "metadata": {},
   "source": [
    "### Step 1.a: Compiling the code"
   ]
  },
  {
   "cell_type": "markdown",
   "metadata": {},
   "source": [
    "&#9989; <font color=red>**Question 1.a**</font>: Assume that the above code is stored in a file named ```game_of_life.c```, in your current directory.  What command(s) are needed to compile the code (with OpenMP and level 3 optimization) on a dev node and make an executable named ```gol```."
   ]
  },
  {
   "cell_type": "raw",
   "metadata": {},
   "source": [
    "Put the answer to the above question here"
   ]
  },
  {
   "cell_type": "markdown",
   "metadata": {},
   "source": [
    "### Step 1.b: Formatting the input\n",
    "\n",
    "When compiled the above program can be run using the following command:\n",
    "\n",
    "```gol < data```\n",
    "\n",
    "\n",
    "The input, ```data```, is an input file with the following example syntax:\n",
    "\n",
    "```\n",
    "5 1\n",
    "10001\n",
    "00100\n",
    "01110\n",
    "00100\n",
    "01010\n",
    "```\n",
    "\n",
    "The first line is two integer, $N$ and $M$, indicating the the ```world``` is of size $N \\times N$ and modeling cycles is $M$. The following are $N$ lines with $N$ numbers on each line, where 0 indicates the cell is dead and 1 is live.\n",
    "\n",
    "&#9989; <font color=red>**Question 1.b:**</font>: In class we talked about the \"less than\" (```>```) character which redirects the output from the terminal to a file.  In your own words, what does the \"grater than\" ```<``` character do in BASH?"
   ]
  },
  {
   "cell_type": "markdown",
   "metadata": {},
   "source": [
    "Put the answer to the above question here"
   ]
  },
  {
   "cell_type": "markdown",
   "metadata": {},
   "source": [
    "### Step 1.c: Analyzing the code\n",
    "\n",
    "&#9989; <font color=red>**Question 1.c**</font>: Explain why the code will slow down if you changed the OpenMP scheduling from ```static``` to ``dynamic``?"
   ]
  },
  {
   "cell_type": "markdown",
   "metadata": {},
   "source": [
    "Put the answer to the above question here"
   ]
  },
  {
   "cell_type": "markdown",
   "metadata": {},
   "source": [
    "&#9989; <font color=red>**Question 1.d**</font>: Observe that the ```plate``` is initialized with two (2) $N \\times N$ worlds and switches between them using the ```which``` variable after every cycle.  What common parallelization problem is avoided by having two arrays instead of one? Explain your answer."
   ]
  },
  {
   "cell_type": "markdown",
   "metadata": {},
   "source": [
    "Put the answer to the above question here"
   ]
  },
  {
   "cell_type": "markdown",
   "metadata": {},
   "source": [
    "&#9989; <font color=red>**Question 1.e**</font>: Assume a largish grid size ($N$) running over a very long number of cycles ($M$) takes 2 days to run on a single core. What is the minimum estimated time (in minutes) that an OpenMP version of this could run on a 40 core machine? Make sure you explain your answer or show your work."
   ]
  },
  {
   "cell_type": "markdown",
   "metadata": {},
   "source": [
    "Put the answer to the above question here"
   ]
  },
  {
   "cell_type": "markdown",
   "metadata": {},
   "source": [
    "----\n",
    "<a name=\"jobs\"></a>\n",
    "# Question 2 - (25 points) Job Scheduling\n",
    "\n",
    "<a title=\"SimpleIcon http://www.simpleicon.com/ [CC BY 3.0 (https://creativecommons.org/licenses/by/3.0)], via Wikimedia Commons\" href=\"https://commons.wikimedia.org/wiki/File:Simpleicons_Business_calendar-check.svg\"><img width=\"256\" alt=\"Simpleicons Business calendar-check\" src=\"https://upload.wikimedia.org/wikipedia/commons/thumb/5/5a/Simpleicons_Business_calendar-check.svg/256px-Simpleicons_Business_calendar-check.svg.png\"></a>\n",
    "\n",
    "Assume the following SLURM submission script is named ```gol_array.sb``` and is in your current directory on the HPCC:\n",
    "\n",
    "```bash\n",
    "#!/bin/bash -login\n",
    "#SBATCH --time=02:00:00\n",
    "#SBATCH --mem=2GB\n",
    "#SBATCH --nodes=1\n",
    "#SBATCH --ntasks-per-node=40\n",
    "#SBATCH --array=1-10\n",
    "\n",
    "module load powertools\n",
    "\n",
    "time gol < data.${SLURM_JOBID} > output.${SLURM_JOBID}\n",
    "\n",
    "js ${SLURM_JOBID}\n",
    "\n",
    "```\n",
    "\n",
    "In addition to the above script there is also a command named ```gol``` and one hundred (100) input files of the form ```data.1``` though ```data.100``` in your current directory."
   ]
  },
  {
   "cell_type": "markdown",
   "metadata": {},
   "source": [
    "<font color=red>**Question 2.a:**</font> The above script tries to use a concept called a \"Job Array\" to submit more than one identical job to the cluster with a single command.  Find a reference that describes how to use SLURM job arrays.  Include a link to the reference as your answer to 2.a. "
   ]
  },
  {
   "cell_type": "raw",
   "metadata": {},
   "source": [
    "Put your job array reference link here"
   ]
  },
  {
   "cell_type": "markdown",
   "metadata": {},
   "source": [
    "<font color=red>**Question 2.b:**</font> What command should you use to submit the script (as is) to the cluster?"
   ]
  },
  {
   "cell_type": "raw",
   "metadata": {},
   "source": [
    "Put the answer to the above question here"
   ]
  },
  {
   "cell_type": "markdown",
   "metadata": {},
   "source": [
    "&#9989; <font color=red>**Question 2.c**</font>: When you try to run the above script the system only produces one output file with the name ```output.12741266``` (you were expecting 100 files).  You notice that the script is using the wrong environment variable for the input and output files.  What variable should be used to indicate the array TASK ID instead of the JOB ID? Rewrite the ```time gol...``` line from the above script to use the correct variable."
   ]
  },
  {
   "cell_type": "markdown",
   "metadata": {},
   "source": [
    "Put the answer to the above question here"
   ]
  },
  {
   "cell_type": "markdown",
   "metadata": {},
   "source": [
    "&#9989; <font color=red>**Question 2.d**</font>: After fixing the code using the correct environment variable. Rerunning the submission script produces the following files: ```output.1```, ```output.2```, ```output.3```, ```output.4```, ```output.5```, ```output.6```, ```output.7```, ```output.8```, ```output.9```, ```output.10```.  All of these seem right but you are still expecting 100 output files.  How do you modify the submission script to run all jobs from 1 to 100?"
   ]
  },
  {
   "cell_type": "raw",
   "metadata": {},
   "source": [
    "Put the answer to the above question here"
   ]
  },
  {
   "cell_type": "markdown",
   "metadata": {},
   "source": [
    "&#9989; <font color=red>**Question 1.e:**</font>: You use job arrays when your jobs are \"pleasantly parallel\" and can be run in any order.  Assuming that the cluster has 12 nodes with 40 cores in each node. Also assume that each job in the array will use all of the resources requested in the script.  What is the fastest that the entire array will complete on the cluster? Explain your answer."
   ]
  },
  {
   "cell_type": "markdown",
   "metadata": {},
   "source": [
    "Put the answer to the above question here"
   ]
  },
  {
   "cell_type": "markdown",
   "metadata": {},
   "source": [
    "---\n",
    "<a name=\"CUDA\"></a>\n",
    "# Question 3 - (25 points) CUDA\n",
    "\n",
    "<img src=\"https://www.bogotobogo.com/Matlab/images/ImageProcessing_6_Low_Pass_Filter/disk_filter.png\" width=\"65%\">\n",
    "\n",
    "Consider the following code snip-it similar to the Average Filter loop from Homework 4.  \n",
    "\n",
    "```c++\n",
    "\n",
    "int nBytes = sz.width*sz.height*channels*sizeof(char));\n",
    "char * s_img = (char *) malloc(nBytes);\n",
    "char * o_img = (char *) malloc(nBytes);\n",
    "\n",
    "//make 2D pointer arrays from 1D image arrays\n",
    "char **img = malloc(sz.height * sizeof(char*));\n",
    "for (int r=0; r<sz.height; r++)\n",
    "        img[r] = &s_img[r*sz.width];\n",
    "char **output = malloc(sz.height * sizeof(char*));\n",
    "for (int r=0; r<sz.height; r++)\n",
    "        output[r] = &o_img[r*sz.width];\n",
    "\n",
    "//average filter\n",
    "for(int c=0;c<sz.width;c++) \n",
    "    for(int r=0;r<sz.height;r++)\n",
    "    {\n",
    "        double count = 0;\n",
    "        double tot = 0;\n",
    "        for(int cw=max(0,c-halfwindow); cw<min(sz.width,c+halfwindow+1); cw++)\n",
    "            for(int rw=max(0,r-halfwindow); rw<min(sz.height,r+halfwindow+1); rw++)\n",
    "            {\n",
    "                count++;\n",
    "                tot += (double) img[rw][cw];\n",
    "            }\n",
    "        output[r][c] = (int) (tot/count);\n",
    "    }\n",
    "```"
   ]
  },
  {
   "cell_type": "markdown",
   "metadata": {},
   "source": [
    "The following is an attempt to replace the above loop with a cuda kernel funciton\n",
    "\n",
    "```c++\n",
    "\n",
    "__global__ void average_im( double * img_d, \n",
    "                            double * output_d, \n",
    "                            int sz_width, \n",
    "                            int sz_height, \n",
    "                            int halfwindow) {\n",
    "\n",
    "    int c = blockIdx.x * BLOCKDIM + threadIdx.x;\n",
    "    int r = blockIdx.y * BLOCKDIM + threadIdx.y;\n",
    "    int i = r*sz_width+c;\n",
    "    \n",
    "    if (c < sz_width && r < sz_height) \n",
    "    {\n",
    "        int count = 0;\n",
    "        int tot = 0;\n",
    "        int c_start = fmax(0,c-halfwindow);\n",
    "        int c_stop = fmin(sz_width,c+halfwindow+1);\n",
    "        int r_start = fmax(0,r-halfwindow);\n",
    "        int r_stop = fmin(sz_height,r+halfwindow+1);\n",
    "        for(int cw=c_start; cw<c_stop; cw++)\n",
    "            for(int rw=r_start; rw<r_stop; rw++)\n",
    "            {\n",
    "                count++;\n",
    "                tot += img_d[i];\n",
    "            }\n",
    "        output_d[i] = (int) (tot/count);\n",
    "    }\n",
    "}\n",
    "```"
   ]
  },
  {
   "cell_type": "markdown",
   "metadata": {},
   "source": [
    "&#9989; <font color=red>**Question 3.a**</font>: Assuming the above CUDA function compiles properly, the function can be called using the following lines of code:\n",
    "\n",
    "```c++\n",
    "average_im<<<numBlocks, numThreads>>>(img_d,output_d,sz.width,sz.height, halfwindow)\n",
    "    \n",
    "cudaError_t err = cudaGetLastError();\n",
    "if (err != cudaSuccess) {\n",
    "    fprintf(stderr, \"\\n\\nError: %s\\n\\n\", cudaGetErrorString(err)); fflush(stderr); exit(err);   \n",
    "}\n",
    "```\n",
    "\n",
    "Write the lines of code needed to declare ```numBLocks``` and ```numThreads``` before making the above call.  Make sure that there are an equal number of threads in the x and y direction of the block and that the block uses the maximum number of threads. "
   ]
  },
  {
   "cell_type": "raw",
   "metadata": {},
   "source": [
    "Put the answer to the above question here"
   ]
  },
  {
   "cell_type": "markdown",
   "metadata": {},
   "source": [
    "&#9989; <font color=red>**Question 3.b**</font>:  Now, go back and write the code needed to declare and allocate the space for ```img_d``` and ```output_d``` on the GPU. You can  assume the ```CUDA_CALL``` macro we used in class is already defined."
   ]
  },
  {
   "cell_type": "raw",
   "metadata": {},
   "source": [
    "Put your answer to the above question here"
   ]
  },
  {
   "cell_type": "markdown",
   "metadata": {},
   "source": [
    "&#9989; <font color=red>**Question 3.c**</font>:  Write the command to copy the image file from the host to the gpu device and into the ```img_d``` variable. You can still assume the ```CUDA_CALL``` macro we used in class is already defined."
   ]
  },
  {
   "cell_type": "raw",
   "metadata": {},
   "source": [
    "Put your answer to the above question here"
   ]
  },
  {
   "cell_type": "markdown",
   "metadata": {},
   "source": [
    "&#9989; <font color=red>**Question 3.d**</font>: This kernel function could benefit from shared memory tiling. Identify the data you would need to copy to shared memory to implement tiling. Write the line of code that you would need to add to the above function to declare the local variable(s) in shared memory?  (**HINT**: Do not implement shared memory tiling, I just want to see if you understand which data you would use and the syntax for declaring the variable to be shared by a block of threads). "
   ]
  },
  {
   "cell_type": "markdown",
   "metadata": {},
   "source": [
    "Put your answer to the above question here"
   ]
  },
  {
   "cell_type": "markdown",
   "metadata": {},
   "source": [
    "&#9989; <font color=red>**Question 3.e**</font>:  Name two (or more) specific programming concepts (not counting tiling) that you could use to speed up the above CUDA kernel? Be clear in your answer and make sure you are explicit in defining two separate concepts for this kernel (for example, \"Improve the algorithm\" and \"reduce memory access speeds\" are too general and would work for any kernel). "
   ]
  },
  {
   "cell_type": "raw",
   "metadata": {},
   "source": [
    "Put the answer to the above question here"
   ]
  },
  {
   "cell_type": "markdown",
   "metadata": {},
   "source": [
    "----\n",
    "<a name=\"OpenMM\"></a>\n",
    "\n",
    "# Question 4 - (25 points)  OpenMM\n",
    "\n",
    "<img src=\"http://openmm.org/img/logos/Icon.svg\" width=\"30%\">\n",
    "\n",
    "OpenMM is a high performance (aka parallel) toolkit for molecular simulation.  Do some internet research on OpenMM, read about it and answer the following questions. "
   ]
  },
  {
   "cell_type": "markdown",
   "metadata": {},
   "source": [
    "&#9989; <font color=red>**Question 4.a:**</font> What type of parallelization does OpenMM use (ex. Shared Memory, Shared Network, GPUs, Other)?  Include a link or explain where you found the answer.  "
   ]
  },
  {
   "cell_type": "markdown",
   "metadata": {},
   "source": [
    "Put your answer to the above question here."
   ]
  },
  {
   "cell_type": "markdown",
   "metadata": {},
   "source": [
    "&#9989; <font color=red>**Question 4.b:**</font> The interface for OpenMM is written in Python.  How does OpenMM avoid problems with serialization of the code due to the Global Interface Lock (GIL)?"
   ]
  },
  {
   "cell_type": "markdown",
   "metadata": {},
   "source": [
    "Put your answer to the above question here."
   ]
  },
  {
   "cell_type": "markdown",
   "metadata": {},
   "source": [
    "&#9989; <font color=red>**Question 4.c:**</font> What command would you use to search for OpenMM in the HPCC module system?"
   ]
  },
  {
   "cell_type": "markdown",
   "metadata": {},
   "source": [
    "Put your answer to the above question here."
   ]
  },
  {
   "cell_type": "markdown",
   "metadata": {},
   "source": [
    "&#9989; <font color=red>**Question 4.d:**</font> What versions (if any) of OpenMM are installed on the HPCC and are available in the module system? "
   ]
  },
  {
   "cell_type": "markdown",
   "metadata": {},
   "source": [
    "Put your answer to the above question here."
   ]
  },
  {
   "cell_type": "markdown",
   "metadata": {},
   "source": [
    "&#9989; <font color=red>**Question 4.e:**</font> Assume you have an OpenMM job running on the HPCC with Job number 7848455 and there is something wrong.  What command would you use to stop the job?"
   ]
  },
  {
   "cell_type": "markdown",
   "metadata": {},
   "source": [
    "Put your answer to the above question here."
   ]
  },
  {
   "cell_type": "markdown",
   "metadata": {},
   "source": [
    "---------\n",
    "### Congratulations, you're done with your EXAM\n",
    "\n",
    "Now, you just need to submit this assignment by uploading it to the course <a href=\"https://d2l.msu.edu/\">Desire2Learn</a> web page for today's dropbox.\n",
    "\n",
    "&#9989; <font color=red>**DO THIS:**</font>\n",
    "- Download the Notebook to your desktop with the filename using the format **\"<NETID\\>_Midterm-Exam.ipynb\"**.  Replace <NETID\\> in the filename with your personal MSU NetID (the stuff that comes before the @ symbol in your msu email address).\n",
    "- Upload the newly renamed notebook to the D2L dropbox. \n"
   ]
  },
  {
   "cell_type": "markdown",
   "metadata": {},
   "source": [
    "&#169; Copyright 2019,  Michigan State University Board of Trustees"
   ]
  }
 ],
 "metadata": {
  "kernelspec": {
   "display_name": "Python 3",
   "language": "python",
   "name": "python3"
  },
  "language_info": {
   "codemirror_mode": {
    "name": "ipython",
    "version": 3
   },
   "file_extension": ".py",
   "mimetype": "text/x-python",
   "name": "python",
   "nbconvert_exporter": "python",
   "pygments_lexer": "ipython3",
   "version": "3.6.5"
  }
 },
 "nbformat": 4,
 "nbformat_minor": 1
}
